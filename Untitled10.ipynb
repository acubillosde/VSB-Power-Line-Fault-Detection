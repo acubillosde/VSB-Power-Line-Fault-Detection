{
  "nbformat": 4,
  "nbformat_minor": 0,
  "metadata": {
    "colab": {
      "name": "Untitled10.ipynb",
      "provenance": [],
      "mount_file_id": "1AowV3AP4bS52xEWh-T6QsCTxXRXZOb5g",
      "authorship_tag": "ABX9TyNkfewrZR94Kmu2fI2briyY",
      "include_colab_link": true
    },
    "kernelspec": {
      "name": "python3",
      "display_name": "Python 3"
    }
  },
  "cells": [
    {
      "cell_type": "markdown",
      "metadata": {
        "id": "view-in-github",
        "colab_type": "text"
      },
      "source": [
        "<a href=\"https://colab.research.google.com/github/joseDalvear/VSB-Power-Line-Fault-Detection/blob/main/Untitled10.ipynb\" target=\"_parent\"><img src=\"https://colab.research.google.com/assets/colab-badge.svg\" alt=\"Open In Colab\"/></a>"
      ]
    },
    {
      "cell_type": "code",
      "metadata": {
        "id": "7Auak8D8J9Jm"
      },
      "source": [
        "#Instalación\n",
        "!apt-get install openjdk-11-jdk-headless -qq > /dev/null\n",
        "!wget -q http://apache.osuosl.org/spark/spark-3.0.1/spark-3.0.1-bin-hadoop3.2.tgz \n",
        "!tar xf spark-3.0.1-bin-hadoop3.2.tgz \n",
        "!pip install -q findspark\n",
        "\n",
        "#Variables de Entorno\n",
        "import os\n",
        "os.environ[\"JAVA_HOME\"] = \"/usr/lib/jvm/java-11-openjdk-amd64\"\n",
        "os.environ[\"SPARK_HOME\"] = \"/content/spark-3.0.1-bin-hadoop3.2\"\n",
        "\n",
        "#SparkContext\n",
        "import findspark\n",
        "findspark.init()\n",
        "from pyspark.sql import SparkSession\n",
        "from pyspark import SparkContext\n",
        "spark = SparkSession.builder.master(\"local[*]\").getOrCreate()\n",
        "sc = SparkContext.getOrCreate()"
      ],
      "execution_count": 4,
      "outputs": []
    },
    {
      "cell_type": "code",
      "metadata": {
        "id": "SyftdrtEKXV5"
      },
      "source": [
        "from pyspark.sql import SQLContext\n",
        "sqlCtx = SQLContext(sc)"
      ],
      "execution_count": 5,
      "outputs": []
    },
    {
      "cell_type": "code",
      "metadata": {
        "id": "0fi4ZGZaLnvq"
      },
      "source": [
        "import pandas as pd\n",
        "import pyarrow.parquet as pq\n",
        "import os"
      ],
      "execution_count": 6,
      "outputs": []
    },
    {
      "cell_type": "code",
      "metadata": {
        "id": "mXYeA1clKutG",
        "outputId": "da988d92-ff34-4362-8a00-7cdfa5f4e467",
        "colab": {
          "base_uri": "https://localhost:8080/"
        }
      },
      "source": [
        "file = sc.textFile(\"drive/My Drive/vsb/vsb-power-line-fault-detection/train.parquet\")\n",
        "file.take(20)"
      ],
      "execution_count": 9,
      "outputs": [
        {
          "output_type": "execute_result",
          "data": {
            "text/plain": [
              "['PAR1\\x15\\x04\\x15�\\x04\\x15�\\x04L\\x15�\\x01\\x15\\x04\\x12\\x00\\x00�\\x02�N\\x12\\x00\\x00\\x00\\x11\\x00\\x00\\x00\\x13\\x00\\x00\\x00\\x10\\x00\\x00\\x00\\x14\\x00\\x00\\x00\\x15\\x00\\x00\\x00\\x0f\\x00\\x00\\x00\\x0e\\x00\\x00\\x00',\n",
              " '\\x00\\x00\\x00\\x0c\\x00\\x00\\x00\\x0b\\x00\\x00\\x00',\n",
              " '\\x00\\x00\\x00\\t\\x00\\x00\\x00\\x06\\x00\\x00\\x00\\x03\\x00\\x00\\x00\\x08\\x00\\x00\\x00\\x05\\x00\\x00\\x00\\x07\\x00\\x00\\x00\\x04\\x00\\x00\\x00\\x01\\x00\\x00\\x05\\x02�����\\x02\\x00\\x00\\x00������������������������������������������������������������������������������������������������������������������������������������\\x1b\\x00\\x00\\x00����\\x1a\\x00\\x00\\x00\\x19\\x00\\x00\\x00\\x16\\x00\\x00\\x00\\x17\\x00\\x00\\x00\\x18\\x00\\x00\\x00\\x1c\\x00\\x00\\x00\\x1e\\x00\\x00\\x00!\\x00\\x00\\x00\\x15\\x00\\x15��U\\x15��=,\\x15��a\\x15\\x04\\x15\\x06\\x15\\x06\\x1c\\x18\\x04!\\x00\\x00\\x00\\x18\\x04����\\x16\\x00\\x00\\x00\\x00��*H\\x04\\x00\\x00\\x00��a\\x01\\x07\\t\\x00@\\x00\\x00\\x00\\x08\\x00�\\x00\\x01\\x01\\x14\\x02\\x01\\x00\\x00 \\x08\\x01\\x1d\\x1c\\x00\\x00\\x08\\x04\\x00\\x18\\x01\\x7f\\x01\\x16\\x14\\x08\\x00\\x04\\x00\\x01 \\x01&\\x0c\\x00@  \\x01',\n",
              " \"\\x00A\\x05&p\\x01�\\x00 \\x08\\x00\\x00\\x01A \\x10\\x08\\x00\\x02\\x00@ \\x00\\x08\\x00\\x00\\x00@@\\x10\\x10\\x08\\x02\\x00\\x05X8\\x06\\x02@@0\\x08\\x04\\x06�\\x00@0\\x00\\x08\\x02\\x01\\x0e\\x0c \\x00\\x00�\\x01s�\\x00\\x02��@\\x10\\x00\\x04\\x00\\x00� \\x00\\x00\\x04\\x00�� \\x10\\x00\\x0c\\x08�� \\x10\\x10\\x04\\x04��  \\x10\\x0c\\x04\\x01\\x00  \\x00\\x0c\\x00�� \\x00\\x18\\x04\\x04\\x01\\x01\\x05\\x1c<\\x01A @\\x18\\x08\\x00\\x01A@\\x00\\x08\\x08\\x02\\x01\\x01\\x01�\\x10\\x02\\x00A\\x00\\x10\\x01�$@\\x00\\x00\\x08\\x10\\x00\\x00\\x01\\x00\\x00\\x01\\x06\\x00A\\x01�\\x08\\x02��\\x01\\x1c\\x0c\\x02\\x00� \\x01�\\x00\\x02\\x01\\x05\\x0c\\x00\\x04\\x00@\\x01�\\t�\\x0c\\x08\\x02\\x02\\x01!\\x01\\x05�\\x1c\\x08\\x08\\x02�� \\x10\\x10\\x05\\x1c  \\x10\\x08\\x02�\\x00\\x00\\x10\\x10!0\\x14 0\\x08\\x0c\\x00\\x02\\x01�\\x08\\x04\\x04�\\x01xH\\x00\\x04�\\x00!\\x00\\x10\\x00\\x04�\\x00 \\x00\\x00\\x0c\\x04\\x00\\x00!!7!M\\x01~!-@\\x08\\x04\\x01@\\x00 \\x08\\x08\\x04\\x01\\x01@ \\x18\\x00\\x00\\x00%;\\x05~\\x01�\\x00@-W\\x05�\\x00�\\x01�\\x10\\x04\\x00\\x00�@\\x01p!�\\x0c\\x10\\x08\\x04�!P\\x05S\\x10\\x00\\x00\\x00\\x06\\x02\\x01�\\x01\\x1a\\x01a\\x0c\\x00�@ \\x01�!�\\x01\\x1e\\x00�\\x01N\\x08\\x04\\x01�\\x01�\\x08\\x00\\x7f�%X\\x08\\x04\\x00\\x00\\x01N\\x08\\x04��%�\\x00�\\x05�%Q\\x01\\x01!'0\\x08\\x04\\x00A @\\x08\\x08\\x00\\x01\\x00@ \\x01\\x07\\x00\\x02\\x01�(\\x02\\x00B\\x00 \\x18\\x08\\x00\\x00�@\\t�\\x01/(\\x02\\x00�@\\x10\\x00\\x08\\x02�\\x00�\\x01\\x07@\\x02\\x00@0\\x10\\x08\\x02\\x05\\x00@\\x10 \\x08\\x00�\\x00�%�\\x01p\\x08\\x04\\x02�\\x01�\\x00\\x0c\\x015H\\x00\\x00\\x04\\x04\\x02� \\x00\\x10\\x04\\x00�@` \\x00\\x0c\\x02�\\x05�\\x14\\x08\\x00\\x02\\x01 \\x10E\\x00\\x00 !C\\x14@ \\x00\\x10\\x08\\x08A\\x0eQ�\\x00\\x0c!�\\x04 \\x00A�\\x01�\\x00\\x04!QAp!�\\x08\\x08\\x04\\x03\\x01\\x07\\x08\\x00\\x00\\x00\\x01�\\x04\\x00\\x08E�\\x08\\x08\\x00\\x01\\x01�\\x04\\x08\\x02-�!.\\x04\\x08\\x08\\x01\\x07\\x140\\x10\\x00\\x02\\x04AE�\\x00�!Q \\x08\\x02\\x00�@\\x00\\x10\\x00\\x06\\x05�\\x00\\x04-�A�!=!Q!�\\x00�!4\\x00\\x04E\\x1b\\x04\\x04\\x04\\x05�\\x08\\x08\\x08\\x03e\",\n",
              " '\\x00\\x04%I\\x00\\x08a0\\x0c\\x00\\x00\\x04\\x02\\x01w\\x04\\x18\\x00\\x01~!�\\x04\\x00Aa?a\\x02!�\\x00\\x01\\x05',\n",
              " \"\\x0c\\x02\\x01A \\x01�\\x00\\x00!\\x18\\x00\\x00ET\\x0c\\x00\\x00\\x06�!�\\x00\\x0c\\x05\\x0eaBi&\\x04\\x7f\\x02\\t$\\x00�\\x01�\\t+A\\x01A\\x1d\\x00\\x0c\\x01U\\x180\\x00\\x04\\x04�\\x01`a<\\x04�\\x00!Qe.\\x1c\\x00\\x0c\\x08\\x03\\x01`\\x10\\x18e'\\x00@e\\x0b\\x00`a�\\x01x\\x10\\x18\\x00\\x06\\x03A\\x01@\\x10\\x06\\x01�\\x00\\x00a<\\x08� \\x10%�$ \\x10\\x18\\x00\\x06\\x01@@\\x00\\x08\\x01\\x07a(!4\\x04\\x10\\x08a!\\x10\\x00`\\x00\\x00\\x00e�\\x0c\\x04\\x0c�A!\\x18\\x18\\x02�A@\\x10\\x08\\x04\\x01�\\x00`!�\\t�e�!�\\x01�\\x00\\x02e\\x0bE�\\x01D\\x08��`\\x01\\x07\\x14�@`\\x00\\x10\\x0cI~e� \\x00\\x00\\x0c\\x00\\x01� \\x00\\x08A�\\x01\\x01%tA\\x13\\x0c\\x00 \\x00\\x18!.\\x00\\x00a.e�\\x0c\\x08\\x04\\x01�!<\\x0c\\x02\\x01�@)f\\x01j\\x08\\x02\\x02\\x01A�\\x01~\\x080\\x00\\x00Ap!�!�\\x00\\x10M~\\x05�%�Apm�\\x04\\x00\\x04E~\\x00\\x00\\x01~\\x04 \\x00%-�[\\x05�\\x00\\x00\\x01~I\\x0e\\x01\\x01)�\\x0c\\x00\\x00\\x00 AF\\x04��%\\x18\\x00\\x00�w\\x00@\\x01\\x16\\x08\\x00\\x00�!B\\x08\\x00\\x00A\\x01\\x07\\x0c\\x06\\x7f\\x00\\x01a \\x00\\x06A\\x7f\\x04\\x10\\x10aQ\\x01�\\x04\\x02\\x00\\x05�a <\\x00\\x04\\x02�A@`\\x10\\x00\\x06�\\x01\\x00\\x10\\x10\\x04!_\\x05\\x07\\x00�\\x01\\x0e\\x00\\x04\\x01j \\x10\\x04\\x04��` \\x00\\x04�\\x0b\\x05�\\x0c\\x00a@\\x00�\\x0b\\x00\\x08\\x01\\x15)ց\\\\\\x00\\x04!5\\x00@i\\x12\\x00\\x00!<\\x00A\\x05�A\\x7fa\\x0b\\x01�\\x04\\x08\\x02)�\\t�\\x01�ee\\x01#��I�e\",\n",
              " '��!.\\x04\\x02\\x04a %��\\x04\\x00���\\x00\\x04�\\x19\\x01c\\x04\\x04�\\x01\\x15\\x08\\x00�\\x00e�)�\\x00\\x04-5\\x08\\x01\\x00!\\x01�a�\\x04\\x00\\x04�QA\\x08\\x00@!R\\x04\\x01@��a!\\x04\\x08\\x08',\n",
              " '�\\x08\\x02\\x02���\\x08\\x00��A~\\x01�a\\x05aK\\x08\\x04\\x00\\x04\\x01\\x0f��\\x05�\\x04�\\x01��\\x08\\x00��\\x05\\x07\\x18\\x00\\x00!\\x10\\x00\\x0c\\x06��\\x10\\x10\\x0c\\x02�\\x01�8�b\\x00\\x00�<�?\\x04\\x01�A$\\x08\\x04\\x03\\x01�[\\x14\\x08�\\x00` \\x08Eb\\t\\x1c!W!�!^!s\\x0c\\x00\\x08\\x00\\x7f\\x01\\x10\\x01�\\x14B@ \\x08\\x10\\x02\\t�\\x0c\\x00\\x01�\\x00\\x05�\\x00�\\x01\\x07\\x1c\\x00\\x01�@\\x10\\x08\\x10\\x06A\\x01�2\\x00A�\\x04\\x04\\x00�!\\x12\\x00\\x08!\\x19��\\x00�A�\\x14\\x04\\x02\\x02\\x03@0!�!�Ay!�\\x00\\x04��e�\\x01�\\x08\\x04\\x00�)\\x19%5\\x00\\x04E\\x7f\\x01�\\x08  \\x08\\x01\\x0e�8\\x04\\x04\\x03\\x01�A�\\x01\\x0f!J\\x01�\\x05�!ɡ�ž!�%�a�\\x01\\x1b\\x00\\x01\\x01Z\\x0c\\x08\\x00\\x00�\\x01=\\x04\\x00\\x02a-!�\\x00�\\x01\\x1d�[� \\x00\\x000\\x10\\x04\\x02��@!J\\x00�!�\\x08\\x04\\x02��\\x0e�=\\x05\\x0f\\x00\\x00�1\\x04\\x00\\x00��Ai\\x00�a�!Q\\x01Z�T)Q��a\\x0b�f�F\\x04\\x00\\x02�i\\x00\\x10a�\\x14\\x00\\x10\\x08\\x02\\x02A\\x01�\\x04\\x02\\x04\\x01�\\x05\\x15AT��!�\\x04@@!�\\x00��\\x1c\\x01\\x01\\x08\\x10\\x0c\\x00-4Iw\\x01�A�\\x00��\\x12\\x04\\x00�\\x01',\n",
              " \"��I~\\x18\\x00\\x04\\x1b\\x00\\x00 @\\x01�\\x00\\x00\\x0e+\\x08\\x00\\x04\\x01�\\x01\\x0e\\x00�!�\\x0e�\\x08!�\\x01\\x1ci'\\x00 \\x01�\\x04A\\x00�c\\x0c�\\x00\\x10\\x18a !�\\x08\\x06\\x00�\\x01\\x08�9�\\x12��\\x10\\x00\\x02\\x10\\x00\\x7f��\\x00\\x00\\x16\\x04\\x08�f\\x10\\x10\\x00\\x0c\\x00�\\x0eJ\\x08\\x14\\x04\\x02�\\x01 0\\x01\\x16\\x01�\\x08\\x0c\\x02�e\\x0f\\x08\\x02�@A���!*\\x04\\x00\\x01A�\\x04\\x00\\x01\\x01\\x1c\\x08\\x04\\x02\\x03E�\\x00\\x04\\x01#!�\\x08\\x00 0!�%�\\x01�A\\x1f\\x00�!���!�m�\\x04\\x02�!L\\x0c\\x08\\x02��\\x01\\x1d\\x05\\x01\\x01�\\x01\\x15��\\x05��-\\x04\\x10\\x04!M\\x00\\x10\\x01��1\\x10\\x0c\\x02��\\x00�s\\x00�\\x12T\\t%1\\x00\\x08AyI^!\\x0c\\x0c\\x04\\x00\\x01@�\\x00\\x04\\x00\\x03\\x05\\x07\\x00\\x04\\x01\\x07\\x04\\x08\\x00\\x01\\x0e\\x0e\\x06\",\n",
              " '\\x05\\x1c',\n",
              " '~A^\\x01�\\x04\\x02�a���\\x01�(\\x06\\x00� \\x10\\x08\\x04\\x06��@a�\\x0c\\x00@ 0�I\\x0e�\\x08\\x00\\x02a�\\x00\\x08�\\x11�;\\x04�\\x00e�\\x00��P\\x08\\x00\\x00�a\\x1b%B\\x00\\x10\\x01�\\x00\\x01\\x01�\\x04\\x00�i�\\x00\\x01�\\x15\\x04\\x04�e�!�\\x00\\x10�~\\x1c\\x02`@\\x18\\x04\\x00\\x01\\x01%�\\x04��!�\\x0c\\x02\\x03�`\\x01�\\x04\\x00\\x01�~\\x08\\x02\\x03\\x00\\x12�',\n",
              " '\\x04\\x03�!<\\x04\\x02\\x7fAs�m\\x18@@\\x10\\x08\\x08\\x06�!�\\x01�\\x00\\x00\\x0e�\\t\\x0e�\\t\\x01�\\t�\\x04�A%\\x04\\x00�)�\\x12�\\t!X\\x01�\\x00\\x00�\\x04\\x04\\x061Q\\t1\\x08�\\x00`�\\x07\\x05�\\x04\\x00\\x02\\x0e\\x0b\\x08!5\\x01\\x7f2�\\x03\\x08\\x08\\x00\\x04!faF)��QA�\\x11~\\x04\\x00\\x00�\\x07\\x00\\x00e\\x0e\\x04\\x08\\x0c! \\x0e\\x0e\\x0b�[a�\\x00 A~\\x01�%.E~\\x08�� a�\\x1a*\\x0b\\x0e�\\t\\x04\\x10\\x00\\x0e\\x03\\x08)��p\\x00\\x02a�\\x04\\x08\\x04\\x12�\\x08\\x01�!�%�a\\x06\\x08�\\x00 �[\\x00\\x02\\x0e&\\x08i�\\x04\\x00\\x04\\x0e\\x11\\x08�I\\x10 \\x10\\x18\\x0c\\x06�i\\x00\\x04��\\x14\\x08\\x06\\x00�!\\x10\\x0e\\x15\\x0b\\x14�!\\x10\\x18\\x08\\x06�w!I!_\\x00\\x00\\x01#e�\\x00A!���-�\\x0e\\x15\\t\\x10��\\x00\\x10\\x10\\x16l',\n",
              " '���m\\x04\\x04\\x04\\x12�\\x08A\\x00���\\\\\\x12\\x03\\x08\\x0e',\n",
              " \"\\x08\\x08\\x00\\x01A%�\\x08\\x7f�@!�\\x04\\x00\\x01!/\\x01\\x07Ax\\x01*�he-e�!�%�\\x04\\x00\\x06!<E�eC\\x0e�\\x08\\x00\\x08�'\\x015�\\x15\\x00\\x04�t�b!�\\x0c\\x00�\\x00`%Q!fa�E�\\x0e \\x0c��e �>!�\\x01pamAT\\x12�\\x0c\\x00\\x00\\x0e�\\x08\\x04A aua�\\x00\\x18A�\\x0e1\\x0b)�\\x00\\x04�B��\\x08\\x00�@a\\x0b!`%'\\x14�\\x00\\x10\\x08\\x02�\\x01p\\x0e\\x07\",\n",
              " '\\x12\\x11\\x08\\x00\\x02�~\\x08\\x00\\x02��4%�\\x00\\x00\\x01�\\x04\\x10\\x10\\x0e�\\t\\x12�\\t\\x10�� \\x10 \\x16�',\n",
              " '!C\\x00@�b\"�',\n",
              " '�-\\x0e\\x15\\x0b\\x05��M\\x01�\\x12�\\x08\\x12t\\x0c\\t�\\x10\\x01\\x01 P\\x08\\x05�A\\x00�p!-\\x00��B!���!',\n",
              " '\\x0c\\x08\\x08\\x06\\x00���WEw\\x0e�',\n",
              " '\\x12b\\t!^\\x00�\\x0e�\\x08�?)�\\x01\\x07e�\\x00\\x10\\x0e�\\x0b\\x18\\x00\\x00\\x10 \\x0c\\x00\\x7f��\\x04\\x10\\x0c\\x0em\\x0cA\\x7f\\x00\\x01\\x0e+\\x0b\\x0e�\\x0c�N\\x00\\x08e�\\x01\\x7f\\x05�\\x04\\x08\\x04\\x12�\\x0b�p��\\x00\\x00i�\\x08\\x00�\\x00EU\\x0e�\\x0c\\x04\\x08\\x04\\x0e�\\t\\x0e�\\x0c\\x04���$\\x04\\x02���\\x0c\\x08\\x02�@!KaK\\x0e�',\n",
              " \"A�\\x04\\x10\\x0c!l\\x04 \\x00A�\\x00 \\x01\\x08\\x00�a�\\x08\\x0c\\x02�!J\\x00\\x18%5\\x0e�\\x0c\\x04� Ay!'�\\x19\\x0e�\"]"
            ]
          },
          "metadata": {
            "tags": []
          },
          "execution_count": 9
        }
      ]
    },
    {
      "cell_type": "code",
      "metadata": {
        "id": "Bow4e914MU-n",
        "outputId": "4ee05369-86a3-4761-8644-41de55995749",
        "colab": {
          "base_uri": "https://localhost:8080/",
          "height": 35
        }
      },
      "source": [
        "file.first()"
      ],
      "execution_count": 8,
      "outputs": [
        {
          "output_type": "execute_result",
          "data": {
            "application/vnd.google.colaboratory.intrinsic+json": {
              "type": "string"
            },
            "text/plain": [
              "'PAR1\\x15\\x04\\x15�\\x04\\x15�\\x04L\\x15�\\x01\\x15\\x04\\x12\\x00\\x00�\\x02�N\\x12\\x00\\x00\\x00\\x11\\x00\\x00\\x00\\x13\\x00\\x00\\x00\\x10\\x00\\x00\\x00\\x14\\x00\\x00\\x00\\x15\\x00\\x00\\x00\\x0f\\x00\\x00\\x00\\x0e\\x00\\x00\\x00'"
            ]
          },
          "metadata": {
            "tags": []
          },
          "execution_count": 8
        }
      ]
    },
    {
      "cell_type": "code",
      "metadata": {
        "id": "AKHVySygXz1Y"
      },
      "source": [
        "ensayo_vsb = sqlCtx.read.option(\"header\",True) \\\n",
        "      .option(\"delimiter\",\"'\\'\") \\\n",
        "     .parquet(\"drive/My Drive/vsb/vsb-power-line-fault-detection/train.parquet\")\n",
        "ensayo_vsb.show(5)"
      ],
      "execution_count": null,
      "outputs": []
    },
    {
      "cell_type": "code",
      "metadata": {
        "id": "Sfxm4l8iXz-R"
      },
      "source": [
        ""
      ],
      "execution_count": null,
      "outputs": []
    },
    {
      "cell_type": "code",
      "metadata": {
        "id": "GhjKELgNXztc"
      },
      "source": [
        ""
      ],
      "execution_count": null,
      "outputs": []
    },
    {
      "cell_type": "code",
      "metadata": {
        "id": "WO8Z-YbMULed"
      },
      "source": [
        ""
      ],
      "execution_count": null,
      "outputs": []
    },
    {
      "cell_type": "code",
      "metadata": {
        "id": "YZkCE09LMpWl",
        "outputId": "bb07240e-be9f-42c6-b477-ef1ea68209a0",
        "colab": {
          "base_uri": "https://localhost:8080/"
        }
      },
      "source": [
        "#Otro metodo: \n",
        "\n",
        "vsbDF = sqlCtx.read.csv(\"drive/My Drive/vsb/vsb-power-line-fault-detection/train.parquet\")\n",
        "type(vsbDF)"
      ],
      "execution_count": 9,
      "outputs": [
        {
          "output_type": "execute_result",
          "data": {
            "text/plain": [
              "pyspark.sql.dataframe.DataFrame"
            ]
          },
          "metadata": {
            "tags": []
          },
          "execution_count": 9
        }
      ]
    },
    {
      "cell_type": "code",
      "metadata": {
        "id": "4yRxNhiWOIc4",
        "outputId": "1c6e26cd-5786-412a-e98f-99f74951cf0d",
        "colab": {
          "base_uri": "https://localhost:8080/"
        }
      },
      "source": [
        "vsbDF.show(5)"
      ],
      "execution_count": 11,
      "outputs": [
        {
          "output_type": "stream",
          "text": [
            "+--------------------+\n",
            "|                 _c0|\n",
            "+--------------------+\n",
            "|PAR1\u0015\u0004\u0015�\u0004\u0015�\u0004L\u0015�\u0001\u0015...|\n",
            "|\u0000\u0000\u0000\t\u0000\u0000\u0000\u0006\u0000\u0000\u0000\u0003\u0000\u0000\u0000\b\u0000...|\n",
            "|\u0000A\u0005&p\u0001�\u0000 \b\u0000\u0000\u0001A \u0010\b...|\n",
            "|\u0000\u0004%I\u0000\ba0\f\u0000\u0000\u0004\u0002\u0001w\u0004\u0018...|\n",
            "|\f\u0002\u0001A \u0001�\u0000\u0000!\u0018\u0000\u0000ET\f\u0000...|\n",
            "+--------------------+\n",
            "only showing top 5 rows\n",
            "\n"
          ],
          "name": "stdout"
        }
      ]
    },
    {
      "cell_type": "code",
      "metadata": {
        "id": "_V0m-5LOSBZU"
      },
      "source": [
        "vsb = pq.read_pandas('drive/My Drive/vsb/vsb-power-line-fault-detection/train.parquet', columns=[str(i) for i in range(5)]).to_pandas()"
      ],
      "execution_count": 14,
      "outputs": []
    },
    {
      "cell_type": "code",
      "metadata": {
        "id": "KQfAz8xbSQad",
        "outputId": "9442c455-65c1-449a-e5c3-3d91fbb14cf0",
        "colab": {
          "base_uri": "https://localhost:8080/"
        }
      },
      "source": [
        "vsb.info()"
      ],
      "execution_count": 15,
      "outputs": [
        {
          "output_type": "stream",
          "text": [
            "<class 'pandas.core.frame.DataFrame'>\n",
            "RangeIndex: 800000 entries, 0 to 799999\n",
            "Data columns (total 5 columns):\n",
            " #   Column  Non-Null Count   Dtype\n",
            "---  ------  --------------   -----\n",
            " 0   0       800000 non-null  int8 \n",
            " 1   1       800000 non-null  int8 \n",
            " 2   2       800000 non-null  int8 \n",
            " 3   3       800000 non-null  int8 \n",
            " 4   4       800000 non-null  int8 \n",
            "dtypes: int8(5)\n",
            "memory usage: 3.8 MB\n"
          ],
          "name": "stdout"
        }
      ]
    },
    {
      "cell_type": "code",
      "metadata": {
        "id": "Gc7ZyBJrSXqF"
      },
      "source": [
        "train = pq.read_pandas('drive/My Drive/vsb/vsb-power-line-fault-detection/train.parquet').to_pandas()"
      ],
      "execution_count": null,
      "outputs": []
    },
    {
      "cell_type": "code",
      "metadata": {
        "id": "Z4ys-hxsSr-U"
      },
      "source": [
        ""
      ],
      "execution_count": null,
      "outputs": []
    }
  ]
}