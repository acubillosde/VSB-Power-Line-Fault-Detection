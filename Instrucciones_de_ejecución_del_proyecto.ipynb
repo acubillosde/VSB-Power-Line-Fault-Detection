{
  "nbformat": 4,
  "nbformat_minor": 0,
  "metadata": {
    "colab": {
      "name": "Instrucciones de ejecución del proyecto.ipynb",
      "provenance": [],
      "collapsed_sections": []
    },
    "kernelspec": {
      "name": "python3",
      "display_name": "Python 3"
    },
    "language_info": {
      "name": "python"
    }
  },
  "cells": [
    {
      "cell_type": "markdown",
      "metadata": {
        "id": "2MtnjJozp0wQ"
      },
      "source": [
        "# Universidad de Antioquia"
      ]
    },
    {
      "cell_type": "markdown",
      "metadata": {
        "id": "b5INcMFUpnHY"
      },
      "source": [
        "# Integrantes:\n",
        "- Jose Daniel Alvear Acevedo\n",
        "- Alfonso Cubillos Delgado"
      ]
    },
    {
      "cell_type": "markdown",
      "metadata": {
        "id": "7dw7iudmpeJx"
      },
      "source": [
        "## **Instrucciones para ejecutar el notebook del proyecto**"
      ]
    },
    {
      "cell_type": "markdown",
      "metadata": {
        "id": "8XgHLr-rqkVY"
      },
      "source": [
        "**Nota:** Si desea revisar las instrucciones mas detalladas, puede visitar este documento https://drive.google.com/file/d/1LZkf5kQ0h2Fq988a9DaHoToRXPvCYyNO/view?usp=sharing "
      ]
    },
    {
      "cell_type": "markdown",
      "metadata": {
        "id": "RgtjI3dKpmP7"
      },
      "source": [
        "Es necesario ejecutar el notebook en la plataforma de Kaggle ya que nos proporciona 16 GB de memoria RAM y una buena velocidad de procesamiento. Adicionalmente al final de estas instrucciones se deja el link personal del proyecto en Kaggle por si deseas visitarlo.\n",
        "\tVisita la página oficial de Kaggle: https://www.kaggle.com/\n",
        "\n",
        "\tCargar el notebook a Kaggle\n"
      ]
    },
    {
      "cell_type": "markdown",
      "metadata": {
        "id": "J_Rc9n7Xq5k6"
      },
      "source": [
        "•\tEl notebook cuenta con una fase inicial de Análisis exploratorio de los datos llamada “Iteración 1”\n",
        "\n",
        "Con esta parte entenderás como están distribuidos los datos, un poco de su comportamiento y también el tamaño de los datos a los que nos vamos a enfrentar.\n"
      ]
    },
    {
      "cell_type": "markdown",
      "metadata": {
        "id": "jzgGaQ_oq_3l"
      },
      "source": [
        "\tCuando ejecutes la primera línea que hace referencia a las Bases de datos, posiblemente se generara un error: "
      ]
    },
    {
      "cell_type": "markdown",
      "metadata": {
        "id": "xtdpB1KerF7x"
      },
      "source": [
        "\tEs necesario que des clic en +Add data\n",
        "\n",
        "\tRegístrate con tu usuario de Kaggle\n"
      ]
    },
    {
      "cell_type": "markdown",
      "metadata": {
        "id": "8BdGxF0yrK6L"
      },
      "source": [
        "\tSelecciona el reto VSB para que te traigas la data de la competencia sin tener que descargar nada en tu equipo\n",
        "\n",
        "\tCuando ya la has cargado te aparecerá de esta manera: (Visita la guia con imagenes https://drive.google.com/file/d/1LZkf5kQ0h2Fq988a9DaHoToRXPvCYyNO/view?usp=sharing  )\n"
      ]
    },
    {
      "cell_type": "markdown",
      "metadata": {
        "id": "cbqrRpNPrcP1"
      },
      "source": [
        "Lo que significa que ya puedes hacer uso de la misma y empezar a ejecutar\n",
        "\n",
        "\tEn caso de presentar error nuevamente, es necesario que revises cual es la base de datos que se está llamando en el código e ir a copiar la ruta de la base:\n"
      ]
    },
    {
      "cell_type": "markdown",
      "metadata": {
        "id": "Aib0YPxOrhvr"
      },
      "source": [
        "\tDar clic en “copy File path”\n",
        "\n",
        "\tTe vas al código que te esta generando error y lo pegas dentro de las comillas simples\n"
      ]
    },
    {
      "cell_type": "markdown",
      "metadata": {
        "id": "54wFqhP0rmJn"
      },
      "source": [
        "Solo debes hacer eso.\n",
        "\n",
        "Nota: En caso de volver a presentar error nos pueden contactar para brindar una solución\n"
      ]
    },
    {
      "cell_type": "markdown",
      "metadata": {
        "id": "87Ynzd8zrsFR"
      },
      "source": [
        "**Nota:** Visita la carpeta expuesta para el apoyo en el entendimiento del proyecto https://drive.google.com/drive/folders/1ouP_u7iDyexLqhTWF0FHqBQOxZid7GEB?usp=sharing"
      ]
    }
  ]
}